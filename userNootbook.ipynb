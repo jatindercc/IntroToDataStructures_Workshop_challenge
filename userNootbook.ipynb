{
 "cells": [
  {
   "cell_type": "markdown",
   "id": "53da906b",
   "metadata": {},
   "source": [
    "### CHALLANGE 3 \n",
    "SAMPLE DATA "
   ]
  },
  {
   "cell_type": "code",
   "execution_count": 18,
   "id": "a80c2c0c",
   "metadata": {},
   "outputs": [
    {
     "name": "stdout",
     "output_type": "stream",
     "text": [
      "   Survived  Pclass   Age  Siblings/Spouses Aboard  Parents/Children Aboard  \\\n",
      "0         0       3  22.0                        1                        0   \n",
      "1         1       1  38.0                        1                        0   \n",
      "2         1       3  26.0                        0                        0   \n",
      "3         1       1  35.0                        1                        0   \n",
      "4         0       3  35.0                        0                        0   \n",
      "\n",
      "      Fare  \n",
      "0   7.2500  \n",
      "1  71.2833  \n",
      "2   7.9250  \n",
      "3  53.1000  \n",
      "4   8.0500  \n"
     ]
    }
   ],
   "source": [
    "import pandas as pd\n",
    "import matplotlib.pyplot as plt\n",
    "from matplotlib_venn import venn3\n",
    "\n",
    "# Create DataFrame from CSV-like string\n",
    "data = {\n",
    "    \"Survived\": [0, 1, 1, 1, 0],\n",
    "    \"Pclass\": [3, 1, 3, 1, 3],\n",
    "    \"Age\": [22.0, 38.0, 26.0, 35.0, 35.0],\n",
    "    \"Siblings/Spouses Aboard\": [1, 1, 0, 1, 0],\n",
    "    \"Parents/Children Aboard\": [0, 0, 0, 0, 0],\n",
    "    \"Fare\": [7.25, 71.2833, 7.925, 53.1, 8.05]\n",
    "}\n",
    "\n",
    "df = pd.DataFrame(data)\n",
    "\n",
    "print(df)"
   ]
  },
  {
   "cell_type": "markdown",
   "id": "a30071b6",
   "metadata": {},
   "source": []
  },
  {
   "cell_type": "code",
   "execution_count": 19,
   "id": "09cdef0f",
   "metadata": {},
   "outputs": [
    {
     "data": {
      "text/html": [
       "<style type=\"text/css\">\n",
       "#T_abe33 thead th {\n",
       "  background-color: #dbe9f4;\n",
       "  color: black;\n",
       "  font-weight: bold;\n",
       "}\n",
       "#T_abe33 tbody td {\n",
       "  border: 1px solid #ccc;\n",
       "}\n",
       "#T_abe33_row0_col0, #T_abe33_row0_col1, #T_abe33_row0_col2, #T_abe33_row1_col0, #T_abe33_row1_col1, #T_abe33_row1_col2, #T_abe33_row2_col0, #T_abe33_row2_col1, #T_abe33_row2_col2, #T_abe33_row3_col0, #T_abe33_row3_col1, #T_abe33_row3_col2, #T_abe33_row4_col0, #T_abe33_row4_col1, #T_abe33_row4_col2, #T_abe33_row5_col0, #T_abe33_row5_col1, #T_abe33_row5_col2 {\n",
       "  font-family: Arial;\n",
       "  font-size: 14px;\n",
       "}\n",
       "</style>\n",
       "<table id=\"T_abe33\">\n",
       "  <caption>Titanic Summary Statistics</caption>\n",
       "  <thead>\n",
       "    <tr>\n",
       "      <th class=\"blank level0\" >&nbsp;</th>\n",
       "      <th id=\"T_abe33_level0_col0\" class=\"col_heading level0 col0\" >Mean</th>\n",
       "      <th id=\"T_abe33_level0_col1\" class=\"col_heading level0 col1\" >Median</th>\n",
       "      <th id=\"T_abe33_level0_col2\" class=\"col_heading level0 col2\" >Mode</th>\n",
       "    </tr>\n",
       "  </thead>\n",
       "  <tbody>\n",
       "    <tr>\n",
       "      <th id=\"T_abe33_level0_row0\" class=\"row_heading level0 row0\" >Survived</th>\n",
       "      <td id=\"T_abe33_row0_col0\" class=\"data row0 col0\" >0.600000</td>\n",
       "      <td id=\"T_abe33_row0_col1\" class=\"data row0 col1\" >1.000000</td>\n",
       "      <td id=\"T_abe33_row0_col2\" class=\"data row0 col2\" >1.000000</td>\n",
       "    </tr>\n",
       "    <tr>\n",
       "      <th id=\"T_abe33_level0_row1\" class=\"row_heading level0 row1\" >Pclass</th>\n",
       "      <td id=\"T_abe33_row1_col0\" class=\"data row1 col0\" >2.200000</td>\n",
       "      <td id=\"T_abe33_row1_col1\" class=\"data row1 col1\" >3.000000</td>\n",
       "      <td id=\"T_abe33_row1_col2\" class=\"data row1 col2\" >3.000000</td>\n",
       "    </tr>\n",
       "    <tr>\n",
       "      <th id=\"T_abe33_level0_row2\" class=\"row_heading level0 row2\" >Age</th>\n",
       "      <td id=\"T_abe33_row2_col0\" class=\"data row2 col0\" >31.200000</td>\n",
       "      <td id=\"T_abe33_row2_col1\" class=\"data row2 col1\" >35.000000</td>\n",
       "      <td id=\"T_abe33_row2_col2\" class=\"data row2 col2\" >35.000000</td>\n",
       "    </tr>\n",
       "    <tr>\n",
       "      <th id=\"T_abe33_level0_row3\" class=\"row_heading level0 row3\" >Siblings/Spouses Aboard</th>\n",
       "      <td id=\"T_abe33_row3_col0\" class=\"data row3 col0\" >0.600000</td>\n",
       "      <td id=\"T_abe33_row3_col1\" class=\"data row3 col1\" >1.000000</td>\n",
       "      <td id=\"T_abe33_row3_col2\" class=\"data row3 col2\" >1.000000</td>\n",
       "    </tr>\n",
       "    <tr>\n",
       "      <th id=\"T_abe33_level0_row4\" class=\"row_heading level0 row4\" >Parents/Children Aboard</th>\n",
       "      <td id=\"T_abe33_row4_col0\" class=\"data row4 col0\" >0.000000</td>\n",
       "      <td id=\"T_abe33_row4_col1\" class=\"data row4 col1\" >0.000000</td>\n",
       "      <td id=\"T_abe33_row4_col2\" class=\"data row4 col2\" >0.000000</td>\n",
       "    </tr>\n",
       "    <tr>\n",
       "      <th id=\"T_abe33_level0_row5\" class=\"row_heading level0 row5\" >Fare</th>\n",
       "      <td id=\"T_abe33_row5_col0\" class=\"data row5 col0\" >29.520000</td>\n",
       "      <td id=\"T_abe33_row5_col1\" class=\"data row5 col1\" >8.050000</td>\n",
       "      <td id=\"T_abe33_row5_col2\" class=\"data row5 col2\" >7.250000</td>\n",
       "    </tr>\n",
       "  </tbody>\n",
       "</table>\n"
      ],
      "text/plain": [
       "<pandas.io.formats.style.Styler at 0x19bdcdd1f90>"
      ]
     },
     "execution_count": 19,
     "metadata": {},
     "output_type": "execute_result"
    }
   ],
   "source": [
    "mean_values = df.mean(numeric_only=True)\n",
    "median_values = df.median(numeric_only=True)\n",
    "mode_values = df.mode(numeric_only=True).iloc[0]\n",
    "\n",
    "# Combine into a summary DataFrame\n",
    "summary_df = pd.DataFrame({\n",
    "    \"Mean\": mean_values,\n",
    "    \"Median\": median_values,\n",
    "    \"Mode\": mode_values\n",
    "})\n",
    "\n",
    "# Optional: Round values for cleaner display\n",
    "summary_df = summary_df.round(2)\n",
    "\n",
    "# Style the table for notebook display\n",
    "styled_summary = summary_df.style.set_caption(\"Titanic Summary Statistics\")\\\n",
    "    .set_table_styles([\n",
    "        {'selector': 'thead th', 'props': [('background-color', '#dbe9f4'), ('color', 'black'), ('font-weight', 'bold')]},\n",
    "        {'selector': 'tbody td', 'props': [('border', '1px solid #ccc')]}\n",
    "    ])\\\n",
    "    .set_properties(**{'font-family': 'Arial', 'font-size': '14px'})\n",
    "\n",
    "styled_summary\n"
   ]
  },
  {
   "cell_type": "markdown",
   "id": "a8e81fb8",
   "metadata": {},
   "source": [
    "From Challenge 6 - Calculate the variance standard deviation and four Quartiles in a way that makes sense"
   ]
  },
  {
   "cell_type": "code",
   "execution_count": 20,
   "id": "8c6b7adb",
   "metadata": {},
   "outputs": [
    {
     "data": {
      "text/html": [
       "<style type=\"text/css\">\n",
       "#T_b82d4 thead th {\n",
       "  background-color: #f0f8ff;\n",
       "  color: black;\n",
       "  font-weight: bold;\n",
       "}\n",
       "#T_b82d4 tbody td {\n",
       "  border: 1px solid #ccc;\n",
       "}\n",
       "#T_b82d4_row0_col0, #T_b82d4_row0_col1, #T_b82d4_row0_col2, #T_b82d4_row0_col3, #T_b82d4_row0_col4, #T_b82d4_row0_col5, #T_b82d4_row0_col6, #T_b82d4_row1_col0, #T_b82d4_row1_col1, #T_b82d4_row1_col2, #T_b82d4_row1_col3, #T_b82d4_row1_col4, #T_b82d4_row1_col5, #T_b82d4_row1_col6, #T_b82d4_row2_col0, #T_b82d4_row2_col1, #T_b82d4_row2_col2, #T_b82d4_row2_col3, #T_b82d4_row2_col4, #T_b82d4_row2_col5, #T_b82d4_row2_col6, #T_b82d4_row3_col0, #T_b82d4_row3_col1, #T_b82d4_row3_col2, #T_b82d4_row3_col3, #T_b82d4_row3_col4, #T_b82d4_row3_col5, #T_b82d4_row3_col6, #T_b82d4_row4_col0, #T_b82d4_row4_col1, #T_b82d4_row4_col2, #T_b82d4_row4_col3, #T_b82d4_row4_col4, #T_b82d4_row4_col5, #T_b82d4_row4_col6, #T_b82d4_row5_col0, #T_b82d4_row5_col1, #T_b82d4_row5_col2, #T_b82d4_row5_col3, #T_b82d4_row5_col4, #T_b82d4_row5_col5, #T_b82d4_row5_col6 {\n",
       "  font-family: Arial;\n",
       "  font-size: 14px;\n",
       "}\n",
       "</style>\n",
       "<table id=\"T_b82d4\">\n",
       "  <caption>📈 Titanic Spread & Distribution Summary</caption>\n",
       "  <thead>\n",
       "    <tr>\n",
       "      <th class=\"blank level0\" >&nbsp;</th>\n",
       "      <th id=\"T_b82d4_level0_col0\" class=\"col_heading level0 col0\" >Variance</th>\n",
       "      <th id=\"T_b82d4_level0_col1\" class=\"col_heading level0 col1\" >Std Dev</th>\n",
       "      <th id=\"T_b82d4_level0_col2\" class=\"col_heading level0 col2\" >Min</th>\n",
       "      <th id=\"T_b82d4_level0_col3\" class=\"col_heading level0 col3\" >Q1</th>\n",
       "      <th id=\"T_b82d4_level0_col4\" class=\"col_heading level0 col4\" >Q2 (Median)</th>\n",
       "      <th id=\"T_b82d4_level0_col5\" class=\"col_heading level0 col5\" >Q3</th>\n",
       "      <th id=\"T_b82d4_level0_col6\" class=\"col_heading level0 col6\" >Max</th>\n",
       "    </tr>\n",
       "  </thead>\n",
       "  <tbody>\n",
       "    <tr>\n",
       "      <th id=\"T_b82d4_level0_row0\" class=\"row_heading level0 row0\" >Survived</th>\n",
       "      <td id=\"T_b82d4_row0_col0\" class=\"data row0 col0\" >0.300000</td>\n",
       "      <td id=\"T_b82d4_row0_col1\" class=\"data row0 col1\" >0.550000</td>\n",
       "      <td id=\"T_b82d4_row0_col2\" class=\"data row0 col2\" >0.000000</td>\n",
       "      <td id=\"T_b82d4_row0_col3\" class=\"data row0 col3\" >0.000000</td>\n",
       "      <td id=\"T_b82d4_row0_col4\" class=\"data row0 col4\" >1.000000</td>\n",
       "      <td id=\"T_b82d4_row0_col5\" class=\"data row0 col5\" >1.000000</td>\n",
       "      <td id=\"T_b82d4_row0_col6\" class=\"data row0 col6\" >1.000000</td>\n",
       "    </tr>\n",
       "    <tr>\n",
       "      <th id=\"T_b82d4_level0_row1\" class=\"row_heading level0 row1\" >Pclass</th>\n",
       "      <td id=\"T_b82d4_row1_col0\" class=\"data row1 col0\" >1.200000</td>\n",
       "      <td id=\"T_b82d4_row1_col1\" class=\"data row1 col1\" >1.100000</td>\n",
       "      <td id=\"T_b82d4_row1_col2\" class=\"data row1 col2\" >1.000000</td>\n",
       "      <td id=\"T_b82d4_row1_col3\" class=\"data row1 col3\" >1.000000</td>\n",
       "      <td id=\"T_b82d4_row1_col4\" class=\"data row1 col4\" >3.000000</td>\n",
       "      <td id=\"T_b82d4_row1_col5\" class=\"data row1 col5\" >3.000000</td>\n",
       "      <td id=\"T_b82d4_row1_col6\" class=\"data row1 col6\" >3.000000</td>\n",
       "    </tr>\n",
       "    <tr>\n",
       "      <th id=\"T_b82d4_level0_row2\" class=\"row_heading level0 row2\" >Age</th>\n",
       "      <td id=\"T_b82d4_row2_col0\" class=\"data row2 col0\" >46.700000</td>\n",
       "      <td id=\"T_b82d4_row2_col1\" class=\"data row2 col1\" >6.830000</td>\n",
       "      <td id=\"T_b82d4_row2_col2\" class=\"data row2 col2\" >22.000000</td>\n",
       "      <td id=\"T_b82d4_row2_col3\" class=\"data row2 col3\" >26.000000</td>\n",
       "      <td id=\"T_b82d4_row2_col4\" class=\"data row2 col4\" >35.000000</td>\n",
       "      <td id=\"T_b82d4_row2_col5\" class=\"data row2 col5\" >35.000000</td>\n",
       "      <td id=\"T_b82d4_row2_col6\" class=\"data row2 col6\" >38.000000</td>\n",
       "    </tr>\n",
       "    <tr>\n",
       "      <th id=\"T_b82d4_level0_row3\" class=\"row_heading level0 row3\" >Siblings/Spouses Aboard</th>\n",
       "      <td id=\"T_b82d4_row3_col0\" class=\"data row3 col0\" >0.300000</td>\n",
       "      <td id=\"T_b82d4_row3_col1\" class=\"data row3 col1\" >0.550000</td>\n",
       "      <td id=\"T_b82d4_row3_col2\" class=\"data row3 col2\" >0.000000</td>\n",
       "      <td id=\"T_b82d4_row3_col3\" class=\"data row3 col3\" >0.000000</td>\n",
       "      <td id=\"T_b82d4_row3_col4\" class=\"data row3 col4\" >1.000000</td>\n",
       "      <td id=\"T_b82d4_row3_col5\" class=\"data row3 col5\" >1.000000</td>\n",
       "      <td id=\"T_b82d4_row3_col6\" class=\"data row3 col6\" >1.000000</td>\n",
       "    </tr>\n",
       "    <tr>\n",
       "      <th id=\"T_b82d4_level0_row4\" class=\"row_heading level0 row4\" >Parents/Children Aboard</th>\n",
       "      <td id=\"T_b82d4_row4_col0\" class=\"data row4 col0\" >0.000000</td>\n",
       "      <td id=\"T_b82d4_row4_col1\" class=\"data row4 col1\" >0.000000</td>\n",
       "      <td id=\"T_b82d4_row4_col2\" class=\"data row4 col2\" >0.000000</td>\n",
       "      <td id=\"T_b82d4_row4_col3\" class=\"data row4 col3\" >0.000000</td>\n",
       "      <td id=\"T_b82d4_row4_col4\" class=\"data row4 col4\" >0.000000</td>\n",
       "      <td id=\"T_b82d4_row4_col5\" class=\"data row4 col5\" >0.000000</td>\n",
       "      <td id=\"T_b82d4_row4_col6\" class=\"data row4 col6\" >0.000000</td>\n",
       "    </tr>\n",
       "    <tr>\n",
       "      <th id=\"T_b82d4_level0_row5\" class=\"row_heading level0 row5\" >Fare</th>\n",
       "      <td id=\"T_b82d4_row5_col0\" class=\"data row5 col0\" >930.860000</td>\n",
       "      <td id=\"T_b82d4_row5_col1\" class=\"data row5 col1\" >30.510000</td>\n",
       "      <td id=\"T_b82d4_row5_col2\" class=\"data row5 col2\" >7.250000</td>\n",
       "      <td id=\"T_b82d4_row5_col3\" class=\"data row5 col3\" >7.920000</td>\n",
       "      <td id=\"T_b82d4_row5_col4\" class=\"data row5 col4\" >8.050000</td>\n",
       "      <td id=\"T_b82d4_row5_col5\" class=\"data row5 col5\" >53.100000</td>\n",
       "      <td id=\"T_b82d4_row5_col6\" class=\"data row5 col6\" >71.280000</td>\n",
       "    </tr>\n",
       "  </tbody>\n",
       "</table>\n"
      ],
      "text/plain": [
       "<pandas.io.formats.style.Styler at 0x19bd81d3ed0>"
      ]
     },
     "execution_count": 20,
     "metadata": {},
     "output_type": "execute_result"
    }
   ],
   "source": [
    "import matplotlib.pyplot as plt\n",
    "\n",
    "# Variance\n",
    "variance = df.var(numeric_only=True)\n",
    "\n",
    "# Standard Deviation\n",
    "std_dev = df.std(numeric_only=True)\n",
    "\n",
    "# Quartiles (Q1, Q2, Q3) and Min/Max\n",
    "quartiles = df.quantile([0.0, 0.25, 0.5, 0.75, 1.0], numeric_only=True)\n",
    "\n",
    "\n",
    "# Transpose quartiles for better formatting\n",
    "quartiles_transposed = quartiles.T\n",
    "quartiles_transposed.columns = ['Min', 'Q1', 'Q2 (Median)', 'Q3', 'Max']\n",
    "\n",
    "# Combine all stats\n",
    "summary_df = pd.concat([variance.rename(\"Variance\"),\n",
    "                        std_dev.rename(\"Std Dev\"),\n",
    "                        quartiles_transposed], axis=1)\n",
    "\n",
    "# Round for clarity\n",
    "summary_df = summary_df.round(2)\n",
    "\n",
    "# Style for notebook display\n",
    "styled_summary = summary_df.style.set_caption(\"📈 Titanic Spread & Distribution Summary\")\\\n",
    "    .set_table_styles([\n",
    "        {'selector': 'thead th', 'props': [('background-color', '#f0f8ff'), ('color', 'black'), ('font-weight', 'bold')]},\n",
    "        {'selector': 'tbody td', 'props': [('border', '1px solid #ccc')]}\n",
    "    ])\\\n",
    "    .set_properties(**{'font-family': 'Arial', 'font-size': '14px'})\n",
    "\n",
    "styled_summary\n",
    "\n",
    "\n"
   ]
  },
  {
   "cell_type": "markdown",
   "id": "bf95af9f",
   "metadata": {},
   "source": []
  },
  {
   "cell_type": "code",
   "execution_count": 21,
   "id": "a690632c",
   "metadata": {},
   "outputs": [
    {
     "data": {
      "image/png": "[encoded data removed]",
      "text/plain": [
       "<Figure size 1000x600 with 1 Axes>"
      ]
     },
     "metadata": {},
     "output_type": "display_data"
    }
   ],
   "source": [
    "####################VARIANCE#############################\n",
    "# Variance\n",
    "\n",
    "variance = df.var(numeric_only=True)\n",
    "\n",
    "# Standard Deviation\n",
    "std_dev = df.std(numeric_only=True)\n",
    "\n",
    "# Quartiles\n",
    "quartiles = df.quantile([0.0, 0.25, 0.5, 0.75, 1.0], numeric_only=True).T\n",
    "quartiles.columns = ['Min', 'Q1', 'Median (Q2)', 'Q3', 'Max']\n",
    "\n",
    "# Combine into a summary table\n",
    "summary_df = pd.concat([variance.rename(\"Variance\"),\n",
    "                        std_dev.rename(\"Std Dev\"),\n",
    "                        quartiles], axis=1).round(2)\n",
    "\n",
    "summary_df\n",
    "\n",
    "####################VARIANCE#############################\n",
    "\n",
    "\n",
    "#import matplotlib.pyplot as plt\n",
    "\n",
    "# Get numeric column names as a list\n",
    "numeric_cols = df.select_dtypes(include='number').columns.tolist()\n",
    "\n",
    "# Create box plot\n",
    "plt.figure(figsize=(10, 6))\n",
    "df.boxplot(column=numeric_cols, grid=False)\n",
    "plt.title(\"Box Plot of Titanic Data Numeric Features\")\n",
    "plt.ylabel(\"Value Range\")\n",
    "plt.xticks(rotation=45)\n",
    "plt.tight_layout()\n",
    "plt.show()\n",
    "\n"
   ]
  },
  {
   "cell_type": "markdown",
   "id": "94ebd1c7",
   "metadata": {},
   "source": [
    "🎯 1. Scatter Plot: Age vs Fare"
   ]
  },
  {
   "cell_type": "code",
   "execution_count": 22,
   "id": "f2656c7a",
   "metadata": {},
   "outputs": [
    {
     "data": {
      "image/png": "[encoded data removed]",
      "text/plain": [
       "<Figure size 800x600 with 1 Axes>"
      ]
     },
     "metadata": {},
     "output_type": "display_data"
    }
   ],
   "source": [
    "plt.figure(figsize=(8, 6))\n",
    "plt.scatter(df['Age'], df['Fare'], c=df['Survived'], cmap='coolwarm', edgecolors='k')\n",
    "plt.title(\"Scatter Plot: Age vs Fare (Colored by Survival)\")\n",
    "plt.xlabel(\"Age\")\n",
    "plt.ylabel(\"Fare\")\n",
    "plt.grid(True)\n",
    "plt.show()"
   ]
  },
  {
   "cell_type": "markdown",
   "id": "9f2d917a",
   "metadata": {},
   "source": [
    "📊 2. Histogram: Age Distribution"
   ]
  },
  {
   "cell_type": "code",
   "execution_count": 23,
   "id": "82d08c46",
   "metadata": {},
   "outputs": [
    {
     "data": {
      "image/png": "[encoded data removed]",
      "text/plain": [
       "<Figure size 800x600 with 1 Axes>"
      ]
     },
     "metadata": {},
     "output_type": "display_data"
    }
   ],
   "source": [
    "plt.figure(figsize=(8, 6))\n",
    "plt.hist(df['Age'].dropna(), bins=10, color='skyblue', edgecolor='black')\n",
    "plt.title(\"Histogram: Age Distribution\")\n",
    "plt.xlabel(\"Age\")\n",
    "plt.ylabel(\"Frequency\")\n",
    "plt.grid(True)\n",
    "plt.show()"
   ]
  },
  {
   "cell_type": "markdown",
   "id": "d8871d0f",
   "metadata": {},
   "source": [
    "📦 3. Box-Whisker Plot: Fare Spread"
   ]
  },
  {
   "cell_type": "code",
   "execution_count": 24,
   "id": "115d5be1",
   "metadata": {},
   "outputs": [
    {
     "data": {
      "image/png": "[encoded data removed]",
      "text/plain": [
       "<Figure size 800x600 with 1 Axes>"
      ]
     },
     "metadata": {},
     "output_type": "display_data"
    }
   ],
   "source": [
    "plt.figure(figsize=(8, 6))\n",
    "df.boxplot(column='Fare', grid=False)\n",
    "plt.title(\"Box-Whisker Plot: Fare\")\n",
    "plt.ylabel(\"Fare\")\n",
    "plt.show()"
   ]
  },
  {
   "cell_type": "markdown",
   "id": "98a4d8fa",
   "metadata": {},
   "source": [
    "4. Venn Diagram: Survived vs Pclass (Simplified)\n",
    "Venn diagrams are best for categorical overlaps. Since we have small data, we’ll use matplotlib_venn to show overlap between:\n",
    "- Passengers who survived\n",
    "- Passengers in 3rd class\n"
   ]
  },
  {
   "cell_type": "code",
   "execution_count": 25,
   "id": "7740f9e1",
   "metadata": {},
   "outputs": [
    {
     "data": {
      "image/png": "[encoded data removed]",
      "text/plain": [
       "<Figure size 800x600 with 1 Axes>"
      ]
     },
     "metadata": {},
     "output_type": "display_data"
    }
   ],
   "source": [
    "from matplotlib_venn import venn3\n",
    "\n",
    "# Define sets\n",
    "young = set(df[df['Age'] < 30].index)\n",
    "high_fare = set(df[df['Fare'] > 20].index)\n",
    "survived = set(df[df['Survived'] == 1].index)\n",
    "\n",
    "plt.figure(figsize=(8, 6))\n",
    "venn3([young, high_fare, survived], ('Age < 30', 'Fare > 20', 'Survived'))\n",
    "plt.title(\"Venn Diagram: Overlap of Age, Fare, and Survival\")\n",
    "plt.show()"
   ]
  },
  {
   "cell_type": "markdown",
   "id": "8f1e3d06",
   "metadata": {},
   "source": [
    "SUMMARY:-\n",
    "- count: number of non-null entries\n",
    "- mean, std, min, max\n",
    "- 25%, 50% (median), 75% percentiles\n",
    "- For categorical columns: unique values, top value, and frequency"
   ]
  },
  {
   "cell_type": "code",
   "execution_count": 26,
   "id": "3a82baa8",
   "metadata": {},
   "outputs": [
    {
     "data": {
      "application/vnd.microsoft.datawrangler.viewer.v0+json": {
       "columns": [
        {
         "name": "index",
         "rawType": "object",
         "type": "string"
        },
        {
         "name": "count",
         "rawType": "object",
         "type": "unknown"
        },
        {
         "name": "unique",
         "rawType": "object",
         "type": "unknown"
        },
        {
         "name": "top",
         "rawType": "object",
         "type": "unknown"
        },
        {
         "name": "freq",
         "rawType": "object",
         "type": "unknown"
        },
        {
         "name": "mean",
         "rawType": "object",
         "type": "unknown"
        },
        {
         "name": "std",
         "rawType": "object",
         "type": "unknown"
        },
        {
         "name": "min",
         "rawType": "object",
         "type": "unknown"
        },
        {
         "name": "25%",
         "rawType": "object",
         "type": "unknown"
        },
        {
         "name": "50%",
         "rawType": "object",
         "type": "unknown"
        },
        {
         "name": "75%",
         "rawType": "object",
         "type": "unknown"
        },
        {
         "name": "max",
         "rawType": "object",
         "type": "unknown"
        }
       ],
       "ref": "50a9cd3e-75df-4e25-828b-7477fb1b7d0a",
       "rows": [
        [
         "Survived",
         "887.0",
         null,
         null,
         null,
         "0.3855693348365276",
         "0.4870041177510123",
         "0.0",
         "0.0",
         "0.0",
         "1.0",
         "1.0"
        ],
        [
         "Pclass",
         "887.0",
         null,
         null,
         null,
         "2.305524239007892",
         "0.8366620036697732",
         "1.0",
         "2.0",
         "3.0",
         "3.0",
         "3.0"
        ],
        [
         "Name",
         "887",
         "887",
         "Mr. Owen Harris Braund",
         "1",
         null,
         null,
         null,
         null,
         null,
         null,
         null
        ],
        [
         "Sex",
         "887",
         "2",
         "male",
         "573",
         null,
         null,
         null,
         null,
         null,
         null,
         null
        ],
        [
         "Age",
         "887.0",
         null,
         null,
         null,
         "29.471443066516347",
         "14.12190840546256",
         "0.42",
         "20.25",
         "28.0",
         "38.0",
         "80.0"
        ],
        [
         "Siblings/Spouses Aboard",
         "887.0",
         null,
         null,
         null,
         "0.5253664036076663",
         "1.10466855386757",
         "0.0",
         "0.0",
         "0.0",
         "1.0",
         "8.0"
        ],
        [
         "Parents/Children Aboard",
         "887.0",
         null,
         null,
         null,
         "0.3833145434047351",
         "0.8074659070316833",
         "0.0",
         "0.0",
         "0.0",
         "0.0",
         "6.0"
        ],
        [
         "Fare",
         "887.0",
         null,
         null,
         null,
         "32.30542018038331",
         "49.78204040017391",
         "0.0",
         "7.925",
         "14.4542",
         "31.1375",
         "512.3292"
        ]
       ],
       "shape": {
        "columns": 11,
        "rows": 8
       }
      },
      "text/html": [
       "<div>\n",
       "<style scoped>\n",
       "    .dataframe tbody tr th:only-of-type {\n",
       "        vertical-align: middle;\n",
       "    }\n",
       "\n",
       "    .dataframe tbody tr th {\n",
       "        vertical-align: top;\n",
       "    }\n",
       "\n",
       "    .dataframe thead th {\n",
       "        text-align: right;\n",
       "    }\n",
       "</style>\n",
       "<table border=\"1\" class=\"dataframe\">\n",
       "  <thead>\n",
       "    <tr style=\"text-align: right;\">\n",
       "      <th></th>\n",
       "      <th>count</th>\n",
       "      <th>unique</th>\n",
       "      <th>top</th>\n",
       "      <th>freq</th>\n",
       "      <th>mean</th>\n",
       "      <th>std</th>\n",
       "      <th>min</th>\n",
       "      <th>25%</th>\n",
       "      <th>50%</th>\n",
       "      <th>75%</th>\n",
       "      <th>max</th>\n",
       "    </tr>\n",
       "  </thead>\n",
       "  <tbody>\n",
       "    <tr>\n",
       "      <th>Survived</th>\n",
       "      <td>887.0</td>\n",
       "      <td>NaN</td>\n",
       "      <td>NaN</td>\n",
       "      <td>NaN</td>\n",
       "      <td>0.385569</td>\n",
       "      <td>0.487004</td>\n",
       "      <td>0.0</td>\n",
       "      <td>0.0</td>\n",
       "      <td>0.0</td>\n",
       "      <td>1.0</td>\n",
       "      <td>1.0</td>\n",
       "    </tr>\n",
       "    <tr>\n",
       "      <th>Pclass</th>\n",
       "      <td>887.0</td>\n",
       "      <td>NaN</td>\n",
       "      <td>NaN</td>\n",
       "      <td>NaN</td>\n",
       "      <td>2.305524</td>\n",
       "      <td>0.836662</td>\n",
       "      <td>1.0</td>\n",
       "      <td>2.0</td>\n",
       "      <td>3.0</td>\n",
       "      <td>3.0</td>\n",
       "      <td>3.0</td>\n",
       "    </tr>\n",
       "    <tr>\n",
       "      <th>Name</th>\n",
       "      <td>887</td>\n",
       "      <td>887</td>\n",
       "      <td>Mr. Owen Harris Braund</td>\n",
       "      <td>1</td>\n",
       "      <td>NaN</td>\n",
       "      <td>NaN</td>\n",
       "      <td>NaN</td>\n",
       "      <td>NaN</td>\n",
       "      <td>NaN</td>\n",
       "      <td>NaN</td>\n",
       "      <td>NaN</td>\n",
       "    </tr>\n",
       "    <tr>\n",
       "      <th>Sex</th>\n",
       "      <td>887</td>\n",
       "      <td>2</td>\n",
       "      <td>male</td>\n",
       "      <td>573</td>\n",
       "      <td>NaN</td>\n",
       "      <td>NaN</td>\n",
       "      <td>NaN</td>\n",
       "      <td>NaN</td>\n",
       "      <td>NaN</td>\n",
       "      <td>NaN</td>\n",
       "      <td>NaN</td>\n",
       "    </tr>\n",
       "    <tr>\n",
       "      <th>Age</th>\n",
       "      <td>887.0</td>\n",
       "      <td>NaN</td>\n",
       "      <td>NaN</td>\n",
       "      <td>NaN</td>\n",
       "      <td>29.471443</td>\n",
       "      <td>14.121908</td>\n",
       "      <td>0.42</td>\n",
       "      <td>20.25</td>\n",
       "      <td>28.0</td>\n",
       "      <td>38.0</td>\n",
       "      <td>80.0</td>\n",
       "    </tr>\n",
       "    <tr>\n",
       "      <th>Siblings/Spouses Aboard</th>\n",
       "      <td>887.0</td>\n",
       "      <td>NaN</td>\n",
       "      <td>NaN</td>\n",
       "      <td>NaN</td>\n",
       "      <td>0.525366</td>\n",
       "      <td>1.104669</td>\n",
       "      <td>0.0</td>\n",
       "      <td>0.0</td>\n",
       "      <td>0.0</td>\n",
       "      <td>1.0</td>\n",
       "      <td>8.0</td>\n",
       "    </tr>\n",
       "    <tr>\n",
       "      <th>Parents/Children Aboard</th>\n",
       "      <td>887.0</td>\n",
       "      <td>NaN</td>\n",
       "      <td>NaN</td>\n",
       "      <td>NaN</td>\n",
       "      <td>0.383315</td>\n",
       "      <td>0.807466</td>\n",
       "      <td>0.0</td>\n",
       "      <td>0.0</td>\n",
       "      <td>0.0</td>\n",
       "      <td>0.0</td>\n",
       "      <td>6.0</td>\n",
       "    </tr>\n",
       "    <tr>\n",
       "      <th>Fare</th>\n",
       "      <td>887.0</td>\n",
       "      <td>NaN</td>\n",
       "      <td>NaN</td>\n",
       "      <td>NaN</td>\n",
       "      <td>32.30542</td>\n",
       "      <td>49.78204</td>\n",
       "      <td>0.0</td>\n",
       "      <td>7.925</td>\n",
       "      <td>14.4542</td>\n",
       "      <td>31.1375</td>\n",
       "      <td>512.3292</td>\n",
       "    </tr>\n",
       "  </tbody>\n",
       "</table>\n",
       "</div>"
      ],
      "text/plain": [
       "                         count unique                     top freq       mean  \\\n",
       "Survived                 887.0    NaN                     NaN  NaN   0.385569   \n",
       "Pclass                   887.0    NaN                     NaN  NaN   2.305524   \n",
       "Name                       887    887  Mr. Owen Harris Braund    1        NaN   \n",
       "Sex                        887      2                    male  573        NaN   \n",
       "Age                      887.0    NaN                     NaN  NaN  29.471443   \n",
       "Siblings/Spouses Aboard  887.0    NaN                     NaN  NaN   0.525366   \n",
       "Parents/Children Aboard  887.0    NaN                     NaN  NaN   0.383315   \n",
       "Fare                     887.0    NaN                     NaN  NaN   32.30542   \n",
       "\n",
       "                               std   min    25%      50%      75%       max  \n",
       "Survived                  0.487004   0.0    0.0      0.0      1.0       1.0  \n",
       "Pclass                    0.836662   1.0    2.0      3.0      3.0       3.0  \n",
       "Name                           NaN   NaN    NaN      NaN      NaN       NaN  \n",
       "Sex                            NaN   NaN    NaN      NaN      NaN       NaN  \n",
       "Age                      14.121908  0.42  20.25     28.0     38.0      80.0  \n",
       "Siblings/Spouses Aboard   1.104669   0.0    0.0      0.0      1.0       8.0  \n",
       "Parents/Children Aboard   0.807466   0.0    0.0      0.0      0.0       6.0  \n",
       "Fare                      49.78204   0.0  7.925  14.4542  31.1375  512.3292  "
      ]
     },
     "execution_count": 26,
     "metadata": {},
     "output_type": "execute_result"
    }
   ],
   "source": [
    "import pandas as pd\n",
    "\n",
    "# Load your dataset\n",
    "df = pd.read_csv(\"data/sets/titanic_data.csv\")\n",
    "\n",
    "# Generate summary statistics\n",
    "summary = df.describe(include='all').transpose()\n",
    "\n",
    "# Display the summary\n",
    "summary"
   ]
  },
  {
   "cell_type": "markdown",
   "id": "f653eb87",
   "metadata": {},
   "source": [
    "Summary Function (R-style)\n"
   ]
  },
  {
   "cell_type": "code",
   "execution_count": 27,
   "id": "6a3df21f",
   "metadata": {},
   "outputs": [
    {
     "data": {
      "application/vnd.microsoft.datawrangler.viewer.v0+json": {
       "columns": [
        {
         "name": "index",
         "rawType": "object",
         "type": "string"
        },
        {
         "name": "Min",
         "rawType": "float64",
         "type": "float"
        },
        {
         "name": "Q1",
         "rawType": "float64",
         "type": "float"
        },
        {
         "name": "Median",
         "rawType": "float64",
         "type": "float"
        },
        {
         "name": "Mean",
         "rawType": "float64",
         "type": "float"
        },
        {
         "name": "Q3",
         "rawType": "float64",
         "type": "float"
        },
        {
         "name": "Max",
         "rawType": "float64",
         "type": "float"
        },
        {
         "name": "Std Dev",
         "rawType": "float64",
         "type": "float"
        },
        {
         "name": "NA Count",
         "rawType": "int64",
         "type": "integer"
        }
       ],
       "ref": "d63e3d47-63a5-4f09-8888-cba865dab432",
       "rows": [
        [
         "Age",
         "0.42",
         "20.25",
         "28.0",
         "29.47",
         "38.0",
         "80.0",
         "14.12",
         "0"
        ],
        [
         "Fare",
         "0.0",
         "7.92",
         "14.45",
         "32.31",
         "31.14",
         "512.33",
         "49.78",
         "0"
        ],
        [
         "Name",
         null,
         null,
         null,
         null,
         null,
         null,
         null,
         "0"
        ],
        [
         "Parents/Children Aboard",
         "0.0",
         "0.0",
         "0.0",
         "0.38",
         "0.0",
         "6.0",
         "0.81",
         "0"
        ],
        [
         "Pclass",
         "1.0",
         "2.0",
         "3.0",
         "2.31",
         "3.0",
         "3.0",
         "0.84",
         "0"
        ],
        [
         "Sex",
         null,
         null,
         null,
         null,
         null,
         null,
         null,
         "0"
        ],
        [
         "Siblings/Spouses Aboard",
         "0.0",
         "0.0",
         "0.0",
         "0.53",
         "1.0",
         "8.0",
         "1.1",
         "0"
        ],
        [
         "Survived",
         "0.0",
         "0.0",
         "0.0",
         "0.39",
         "1.0",
         "1.0",
         "0.49",
         "0"
        ]
       ],
       "shape": {
        "columns": 8,
        "rows": 8
       }
      },
      "text/html": [
       "<div>\n",
       "<style scoped>\n",
       "    .dataframe tbody tr th:only-of-type {\n",
       "        vertical-align: middle;\n",
       "    }\n",
       "\n",
       "    .dataframe tbody tr th {\n",
       "        vertical-align: top;\n",
       "    }\n",
       "\n",
       "    .dataframe thead th {\n",
       "        text-align: right;\n",
       "    }\n",
       "</style>\n",
       "<table border=\"1\" class=\"dataframe\">\n",
       "  <thead>\n",
       "    <tr style=\"text-align: right;\">\n",
       "      <th></th>\n",
       "      <th>Min</th>\n",
       "      <th>Q1</th>\n",
       "      <th>Median</th>\n",
       "      <th>Mean</th>\n",
       "      <th>Q3</th>\n",
       "      <th>Max</th>\n",
       "      <th>Std Dev</th>\n",
       "      <th>NA Count</th>\n",
       "    </tr>\n",
       "  </thead>\n",
       "  <tbody>\n",
       "    <tr>\n",
       "      <th>Age</th>\n",
       "      <td>0.42</td>\n",
       "      <td>20.25</td>\n",
       "      <td>28.00</td>\n",
       "      <td>29.47</td>\n",
       "      <td>38.00</td>\n",
       "      <td>80.00</td>\n",
       "      <td>14.12</td>\n",
       "      <td>0</td>\n",
       "    </tr>\n",
       "    <tr>\n",
       "      <th>Fare</th>\n",
       "      <td>0.00</td>\n",
       "      <td>7.92</td>\n",
       "      <td>14.45</td>\n",
       "      <td>32.31</td>\n",
       "      <td>31.14</td>\n",
       "      <td>512.33</td>\n",
       "      <td>49.78</td>\n",
       "      <td>0</td>\n",
       "    </tr>\n",
       "    <tr>\n",
       "      <th>Name</th>\n",
       "      <td>NaN</td>\n",
       "      <td>NaN</td>\n",
       "      <td>NaN</td>\n",
       "      <td>NaN</td>\n",
       "      <td>NaN</td>\n",
       "      <td>NaN</td>\n",
       "      <td>NaN</td>\n",
       "      <td>0</td>\n",
       "    </tr>\n",
       "    <tr>\n",
       "      <th>Parents/Children Aboard</th>\n",
       "      <td>0.00</td>\n",
       "      <td>0.00</td>\n",
       "      <td>0.00</td>\n",
       "      <td>0.38</td>\n",
       "      <td>0.00</td>\n",
       "      <td>6.00</td>\n",
       "      <td>0.81</td>\n",
       "      <td>0</td>\n",
       "    </tr>\n",
       "    <tr>\n",
       "      <th>Pclass</th>\n",
       "      <td>1.00</td>\n",
       "      <td>2.00</td>\n",
       "      <td>3.00</td>\n",
       "      <td>2.31</td>\n",
       "      <td>3.00</td>\n",
       "      <td>3.00</td>\n",
       "      <td>0.84</td>\n",
       "      <td>0</td>\n",
       "    </tr>\n",
       "    <tr>\n",
       "      <th>Sex</th>\n",
       "      <td>NaN</td>\n",
       "      <td>NaN</td>\n",
       "      <td>NaN</td>\n",
       "      <td>NaN</td>\n",
       "      <td>NaN</td>\n",
       "      <td>NaN</td>\n",
       "      <td>NaN</td>\n",
       "      <td>0</td>\n",
       "    </tr>\n",
       "    <tr>\n",
       "      <th>Siblings/Spouses Aboard</th>\n",
       "      <td>0.00</td>\n",
       "      <td>0.00</td>\n",
       "      <td>0.00</td>\n",
       "      <td>0.53</td>\n",
       "      <td>1.00</td>\n",
       "      <td>8.00</td>\n",
       "      <td>1.10</td>\n",
       "      <td>0</td>\n",
       "    </tr>\n",
       "    <tr>\n",
       "      <th>Survived</th>\n",
       "      <td>0.00</td>\n",
       "      <td>0.00</td>\n",
       "      <td>0.00</td>\n",
       "      <td>0.39</td>\n",
       "      <td>1.00</td>\n",
       "      <td>1.00</td>\n",
       "      <td>0.49</td>\n",
       "      <td>0</td>\n",
       "    </tr>\n",
       "  </tbody>\n",
       "</table>\n",
       "</div>"
      ],
      "text/plain": [
       "                          Min     Q1  Median   Mean     Q3     Max  Std Dev  \\\n",
       "Age                      0.42  20.25   28.00  29.47  38.00   80.00    14.12   \n",
       "Fare                     0.00   7.92   14.45  32.31  31.14  512.33    49.78   \n",
       "Name                      NaN    NaN     NaN    NaN    NaN     NaN      NaN   \n",
       "Parents/Children Aboard  0.00   0.00    0.00   0.38   0.00    6.00     0.81   \n",
       "Pclass                   1.00   2.00    3.00   2.31   3.00    3.00     0.84   \n",
       "Sex                       NaN    NaN     NaN    NaN    NaN     NaN      NaN   \n",
       "Siblings/Spouses Aboard  0.00   0.00    0.00   0.53   1.00    8.00     1.10   \n",
       "Survived                 0.00   0.00    0.00   0.39   1.00    1.00     0.49   \n",
       "\n",
       "                         NA Count  \n",
       "Age                             0  \n",
       "Fare                            0  \n",
       "Name                            0  \n",
       "Parents/Children Aboard         0  \n",
       "Pclass                          0  \n",
       "Sex                             0  \n",
       "Siblings/Spouses Aboard         0  \n",
       "Survived                        0  "
      ]
     },
     "execution_count": 27,
     "metadata": {},
     "output_type": "execute_result"
    }
   ],
   "source": [
    "def summary(df):\n",
    "    return pd.DataFrame({\n",
    "        \"Min\": df.min(numeric_only=True),\n",
    "        \"Q1\": df.quantile(0.25, numeric_only=True),\n",
    "        \"Median\": df.median(numeric_only=True),\n",
    "        \"Mean\": df.mean(numeric_only=True),\n",
    "        \"Q3\": df.quantile(0.75, numeric_only=True),\n",
    "        \"Max\": df.max(numeric_only=True),\n",
    "        \"Std Dev\": df.std(numeric_only=True),\n",
    "        \"NA Count\": df.isnull().sum()\n",
    "    }).round(2)\n",
    "\n",
    "summary(df)"
   ]
  },
  {
   "cell_type": "code",
   "execution_count": 28,
   "id": "dbcd432e",
   "metadata": {},
   "outputs": [
    {
     "data": {
      "text/html": [
       "<style type=\"text/css\">\n",
       "#T_10831 thead th {\n",
       "  background-color: lightblue;\n",
       "  color: black;\n",
       "  font-weight: bold;\n",
       "}\n",
       "#T_10831 tbody td {\n",
       "  border: 1px solid black;\n",
       "}\n",
       "#T_10831_row0_col0, #T_10831_row0_col1, #T_10831_row0_col2, #T_10831_row0_col3, #T_10831_row1_col0, #T_10831_row1_col1, #T_10831_row1_col2, #T_10831_row1_col3, #T_10831_row4_col0, #T_10831_row4_col1, #T_10831_row4_col2, #T_10831_row4_col3 {\n",
       "  font-family: Arial;\n",
       "  font-size: 14px;\n",
       "}\n",
       "#T_10831_row2_col0, #T_10831_row2_col1, #T_10831_row2_col2, #T_10831_row2_col3, #T_10831_row3_col0, #T_10831_row3_col1, #T_10831_row3_col2, #T_10831_row3_col3 {\n",
       "  background-color: blue;\n",
       "  font-family: Arial;\n",
       "  font-size: 14px;\n",
       "}\n",
       "</style>\n",
       "<table id=\"T_10831\">\n",
       "  <thead>\n",
       "    <tr>\n",
       "      <th class=\"blank level0\" >&nbsp;</th>\n",
       "      <th id=\"T_10831_level0_col0\" class=\"col_heading level0 col0\" >Name</th>\n",
       "      <th id=\"T_10831_level0_col1\" class=\"col_heading level0 col1\" >Age</th>\n",
       "      <th id=\"T_10831_level0_col2\" class=\"col_heading level0 col2\" >Gender</th>\n",
       "      <th id=\"T_10831_level0_col3\" class=\"col_heading level0 col3\" >Salary</th>\n",
       "    </tr>\n",
       "  </thead>\n",
       "  <tbody>\n",
       "    <tr>\n",
       "      <th id=\"T_10831_level0_row0\" class=\"row_heading level0 row0\" >0</th>\n",
       "      <td id=\"T_10831_row0_col0\" class=\"data row0 col0\" >Alice</td>\n",
       "      <td id=\"T_10831_row0_col1\" class=\"data row0 col1\" >25</td>\n",
       "      <td id=\"T_10831_row0_col2\" class=\"data row0 col2\" >Female</td>\n",
       "      <td id=\"T_10831_row0_col3\" class=\"data row0 col3\" >50000</td>\n",
       "    </tr>\n",
       "    <tr>\n",
       "      <th id=\"T_10831_level0_row1\" class=\"row_heading level0 row1\" >1</th>\n",
       "      <td id=\"T_10831_row1_col0\" class=\"data row1 col0\" >Bob</td>\n",
       "      <td id=\"T_10831_row1_col1\" class=\"data row1 col1\" >30</td>\n",
       "      <td id=\"T_10831_row1_col2\" class=\"data row1 col2\" >Male</td>\n",
       "      <td id=\"T_10831_row1_col3\" class=\"data row1 col3\" >60000</td>\n",
       "    </tr>\n",
       "    <tr>\n",
       "      <th id=\"T_10831_level0_row2\" class=\"row_heading level0 row2\" >2</th>\n",
       "      <td id=\"T_10831_row2_col0\" class=\"data row2 col0\" >Charlie</td>\n",
       "      <td id=\"T_10831_row2_col1\" class=\"data row2 col1\" >35</td>\n",
       "      <td id=\"T_10831_row2_col2\" class=\"data row2 col2\" >Male</td>\n",
       "      <td id=\"T_10831_row2_col3\" class=\"data row2 col3\" >70000</td>\n",
       "    </tr>\n",
       "    <tr>\n",
       "      <th id=\"T_10831_level0_row3\" class=\"row_heading level0 row3\" >3</th>\n",
       "      <td id=\"T_10831_row3_col0\" class=\"data row3 col0\" >David</td>\n",
       "      <td id=\"T_10831_row3_col1\" class=\"data row3 col1\" >40</td>\n",
       "      <td id=\"T_10831_row3_col2\" class=\"data row3 col2\" >Male</td>\n",
       "      <td id=\"T_10831_row3_col3\" class=\"data row3 col3\" >80000</td>\n",
       "    </tr>\n",
       "    <tr>\n",
       "      <th id=\"T_10831_level0_row4\" class=\"row_heading level0 row4\" >4</th>\n",
       "      <td id=\"T_10831_row4_col0\" class=\"data row4 col0\" >Eva</td>\n",
       "      <td id=\"T_10831_row4_col1\" class=\"data row4 col1\" >22</td>\n",
       "      <td id=\"T_10831_row4_col2\" class=\"data row4 col2\" >Female</td>\n",
       "      <td id=\"T_10831_row4_col3\" class=\"data row4 col3\" >55000</td>\n",
       "    </tr>\n",
       "  </tbody>\n",
       "</table>\n"
      ],
      "text/plain": [
       "<pandas.io.formats.style.Styler at 0x19bdd40b890>"
      ]
     },
     "execution_count": 28,
     "metadata": {},
     "output_type": "execute_result"
    }
   ],
   "source": [
    "import pandas as pd\n",
    "\n",
    "# Create a sample DataFrame\n",
    "data = {\n",
    "    'Name': ['Alice', 'Bob', 'Charlie', 'David', 'Eva'],\n",
    "    'Age': [25, 30, 35, 40, 22],\n",
    "    'Gender': ['Female', 'Male', 'Male', 'Male', 'Female'],\n",
    "    'Salary': [50000, 60000, 70000, 80000, 55000]\n",
    "}\n",
    "\n",
    "# Convert the dictionary into a DataFrame\n",
    "df = pd.DataFrame(data)\n",
    "\n",
    "# Define a function to highlight rows based on a condition\n",
    "def highlight_age(row):\n",
    "    return ['background-color: blue' if row.Age > 30 else '' for _ in row]\n",
    "\n",
    "# Apply the styling\n",
    "styled_df = df.style.apply(highlight_age, axis=1)\\\n",
    "                    .set_table_styles([\n",
    "                        {'selector': 'thead th', 'props': [('background-color', 'lightblue'), ('color', 'black'), ('font-weight', 'bold')]},\n",
    "                        {'selector': 'tbody td', 'props': [('border', '1px solid black')]}\n",
    "                    ])\\\n",
    "                    .set_properties(**{'font-family': 'Arial', 'font-size': '14px'})\n",
    "\n",
    "# Display the styled DataFrame\n",
    "styled_df"
   ]
  }
 ],
 "metadata": {
  "kernelspec": {
   "display_name": ".venv",
   "language": "python",
   "name": "python3"
  },
  "language_info": {
   "codemirror_mode": {
    "name": "ipython",
    "version": 3
   },
   "file_extension": ".py",
   "mimetype": "text/x-python",
   "name": "python",
   "nbconvert_exporter": "python",
   "pygments_lexer": "ipython3",
   "version": "3.13.7"
  }
 },
 "nbformat": 4,
 "nbformat_minor": 5
}
